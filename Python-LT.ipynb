{
 "cells": [
  {
   "cell_type": "code",
   "execution_count": 9,
   "metadata": {},
   "outputs": [
    {
     "name": "stdout",
     "output_type": "stream",
     "text": [
      "20\n",
      "<class 'int'>\n",
      "The value of a is 10  \n",
      "value of d is 30 \n",
      "The value f  is  10\n"
     ]
    }
   ],
   "source": [
    "#variables case sensitive ;donot start with digit ;Underscore and letter can be used for starting letter\n",
    "a=10\n",
    "b=c=20\n",
    "d,e=30,40\n",
    "f=a\n",
    "print(b)\n",
    "print(type(c))\n",
    "print('The value of a is',a,' \\nvalue of d is',d,'\\nThe value f  is ',f)"
   ]
  },
  {
   "cell_type": "code",
   "execution_count": 131,
   "metadata": {},
   "outputs": [
    {
     "name": "stdout",
     "output_type": "stream",
     "text": [
      "<class 'int'>\n",
      "<class 'complex'>\n",
      "<class 'str'>\n",
      "He\n",
      "HelloHelloHello\n",
      "Hello world\n",
      "[0, 1, 'A', 'B', 'A']\n",
      "1\n",
      "A\n",
      "[1, 'A']\n",
      "[0, 1, 'A', 'B', 'A', 0, 1, 'A', 'B', 'A']\n",
      "[0, 1, 'A', 'B', 'A', 2, 3, 4]\n",
      "iteration\n",
      "0\n",
      "1\n",
      "A\n",
      "B\n",
      "A\n",
      "[0, 'Apple', 'A', 'B', 'A']\n",
      "New list [0, 'Apple', 'A', 'Python', 100]\n",
      "after appending: [0, 'Apple', 'A', 'Python', 100, 200]\n",
      "after inserting [0, 100, 'Apple', 'A', 'Python', 100, 200]\n",
      "[0, 'A', 'Python', 200]\n",
      "[0, 1, (2, 3)]\n",
      "0\n",
      "2\n",
      "3\n",
      "('orange', 1, 2, 'orange', 1, 2, 'orange', 1, 2)\n",
      "('Tuples', ['Python', 'Tuples'])\n",
      "p\n",
      "Tuples\n",
      "('Tuples', ['Python', 'Tuples'])\n",
      "['orange', 1, 2]\n",
      "{1: 'A', 2: 'B'}\n",
      "dict_keys([1, 2])\n",
      "dict_values(['A', 'B'])\n",
      "dict_items([(1, 'A'), (2, 'B')])\n",
      "B\n",
      "{1: 'a', 2: 'B', 3: 'C'}\n",
      "{1: 'a', 2: 'B', 3: 'c'}\n",
      "2\n",
      "3\n",
      "{'java', 1, 2, 'python'}\n",
      "java\n",
      "1\n",
      "2\n",
      "python\n",
      "4\n",
      "{1, 2, 'java', 'python', 'Orange'}\n",
      "[(2, 3), 1, 0]\n",
      "Length\n",
      "7\n",
      "<class 'bool'>\n"
     ]
    }
   ],
   "source": [
    "#Datatype\n",
    "#Numeric\n",
    "#integer\n",
    "x=int(10)\n",
    "print(type(x))\n",
    "#float\n",
    "a=3.45\n",
    "#complex\n",
    "b=3+4j\n",
    "print(type(b))\n",
    "\n",
    "\n",
    "\n",
    "#Sequence Type\n",
    "#String\n",
    "y='Hello'\n",
    "s='world'\n",
    "print(type(y))\n",
    "#slicing;repetition\n",
    "print(y[0:2])\n",
    "print(y*3)#repetition\n",
    "\n",
    "print(y+' '+s)\n",
    "\n",
    "#LIST ;ordered, changeable, and allow duplicate values(index 0,1,2,3)\n",
    "list1=[0,1,'A','B','A']\n",
    "print(list1)\n",
    "print(list1[1])\n",
    "print(list1[-1])\n",
    "\n",
    "print(list1[1:3])\n",
    "#repetition\n",
    "print(list1*2)\n",
    "#concat\n",
    "list2=[2,3,4]\n",
    "list3=list1+list2\n",
    "print(list3)\n",
    "#iteration\n",
    "print('iteration')\n",
    "for i in list1:   \n",
    "    print(i) \n",
    "\n",
    "#change the list items\n",
    "list1[1]='Apple'\n",
    "print(list1)\n",
    "list1[3:5]=['Python','Java']\n",
    "list1[-1]=100\n",
    "print('New list',list1)\n",
    "\n",
    "#insert list items \n",
    "#append append(value)\n",
    "list1.append(200)\n",
    "print('after appending:',list1)\n",
    "#insert insert(index,value)\n",
    "list1.insert(1,100)\n",
    "print('after inserting',list1)\n",
    "\n",
    "\n",
    "\n",
    "#removing list items\n",
    "list1.pop(1)\n",
    "list1.remove('Apple')\n",
    "del list1[3]\n",
    "print(list1)\n",
    "\n",
    "#nested lists\n",
    "list1=[0,1,(2,3)]\n",
    "print(list1)\n",
    "print(list1[0])\n",
    "print(list1[2][0])\n",
    "print(list1[2][1])\n",
    "\n",
    "#sort\n",
    "#ist1.sort()\n",
    "listcpy=list1.copy()\n",
    "listrev=list1.reverse()\n",
    "\n",
    "\n",
    "\n",
    "\n",
    "#Tuple immutable(readonly),ordered\n",
    "tuple1=('orange',1,2)\n",
    "tuple_2=( \"Tuples\", [\"Python\", \"Tuples\"] )\n",
    "print(tuple1*3)\n",
    "print(tuple_2)\n",
    "print(tuple_2[0][2])\n",
    "print(tuple_2[1][1])\n",
    "print(tuple_2[:])\n",
    "z=list(tuple1)\n",
    "print(z)\n",
    "\n",
    "\n",
    "\n",
    "\n",
    "\n",
    "#Dictionary keyvalue pair,changeable and do not allow duplicates,ordered\n",
    "dic={1:'A',2:'B'}\n",
    "print(dic)\n",
    "print(dic.keys())\n",
    "print(dic.values())\n",
    "print(dic.items())\n",
    "print(dic[2])\n",
    "\n",
    "#changing\n",
    "\n",
    "dic[3]='C'\n",
    "dic[1]='a'\n",
    "print(dic)\n",
    "dic.update({3:'c'})\n",
    "print(dic)\n",
    "\n",
    "#removing\n",
    "#del dic[1]\n",
    "#del dic\n",
    "dic.pop(1)#key\n",
    "\n",
    "#loop\n",
    "for i in dic:\n",
    "  print(i)#key\n",
    "\n",
    "for i in dic.keys():\n",
    "    print(i)\n",
    "for i in dic.values():\n",
    "    print(i)\n",
    "    \n",
    "    \n",
    "    \n",
    "    \n",
    "#nested dictionaries\n",
    "myfamily = {\n",
    "  \"child1\" : {\n",
    "    \"name\" : \"Emil\",\n",
    "    \"year\" : 2004\n",
    "  },\n",
    "  \"child2\" : {\n",
    "    \"name\" : \"Tobias\",\n",
    "    \"year\" : 2007\n",
    "  },\n",
    "  \"child3\" : {\n",
    "    \"name\" : \"Linus\",\n",
    "    \"year\" : 2011\n",
    "  }\n",
    "}\n",
    "\n",
    "print(myfamily[\"child2\"][\"name\"]\n",
    "\n",
    "\n",
    "#set unordered,unique, immutable;but you can remove items and add new items.canot retrieve using index\n",
    "set1=set()\n",
    "set2={1,2,'python','java'}\n",
    "print(set2)\n",
    "for i in set2:\n",
    "    print(i)\n",
    "print(len(set2))\n",
    "#add\n",
    "set2.add('Orange')\n",
    "print(set2)\n",
    "print(list1)\n",
    "set2.update(list1)\n",
    "print('Length')\n",
    "print(len(set2))\n",
    "\n",
    "#remove\n",
    "\n",
    "set2.remove('java')\n",
    "#del set2\n",
    "#set2.pop()\n",
    "\n",
    "\n",
    "\n",
    "#BOOLEAN\n",
    "z=True\n",
    "print(type(z))"
   ]
  },
  {
   "cell_type": "code",
   "execution_count": 37,
   "metadata": {},
   "outputs": [
    {
     "name": "stdout",
     "output_type": "stream",
     "text": [
      "13 7 6 2.0 2 0 25\n"
     ]
    }
   ],
   "source": [
    "#arithmetic operators\n",
    "a=10+3\n",
    "b=10-3\n",
    "c=2*3\n",
    "d1=6/3\n",
    "d2=6//3\n",
    "d3=6%3\n",
    "f=5**2\n",
    "print(a,b,c,d1,d2,d3,f)"
   ]
  },
  {
   "cell_type": "code",
   "execution_count": 50,
   "metadata": {},
   "outputs": [
    {
     "name": "stdout",
     "output_type": "stream",
     "text": [
      "12\n",
      "10\n"
     ]
    }
   ],
   "source": [
    "#Assignment Operatord\n",
    "num1=10\n",
    "num1+=2\n",
    "print(num1)\n",
    "num1-=2\n",
    "print(num1)"
   ]
  },
  {
   "cell_type": "code",
   "execution_count": 52,
   "metadata": {},
   "outputs": [
    {
     "name": "stdout",
     "output_type": "stream",
     "text": [
      "False\n"
     ]
    }
   ],
   "source": [
    "#Comparision Operator(>,<,>=,<=,!=)\n",
    "num1=10\n",
    "num2=20\n",
    "\n",
    "if(num1>num2):\n",
    " isOutput=True\n",
    "else:\n",
    " isOutput=False\n",
    "print(isOutput)"
   ]
  },
  {
   "cell_type": "code",
   "execution_count": 56,
   "metadata": {},
   "outputs": [
    {
     "name": "stdout",
     "output_type": "stream",
     "text": [
      "False\n",
      "True\n",
      "False\n"
     ]
    }
   ],
   "source": [
    "#Logical Operator(or,and,not)\n",
    "num1=10\n",
    "num2=20\n",
    "\n",
    "if(num1>num2 or num1==num2):\n",
    " isOutput=True\n",
    "else:\n",
    " isOutput=False\n",
    "print(isOutput)\n",
    "\n",
    "x = 5\n",
    "print(x>3 and x<10)\n",
    "print(not(x > 3 and x < 10))\n",
    "\n",
    "\n"
   ]
  },
  {
   "cell_type": "code",
   "execution_count": 57,
   "metadata": {},
   "outputs": [
    {
     "name": "stdout",
     "output_type": "stream",
     "text": [
      "True\n",
      "False\n",
      "False\n"
     ]
    }
   ],
   "source": [
    "#Identity Operator (is,isnot)\n",
    "x=['orange','apple']\n",
    "x=y\n",
    "z=[1,2]\n",
    "print(x is y)\n",
    "print(x is not y)\n",
    "print(z is y)"
   ]
  },
  {
   "cell_type": "code",
   "execution_count": 59,
   "metadata": {},
   "outputs": [
    {
     "name": "stdout",
     "output_type": "stream",
     "text": [
      "True\n",
      "False\n"
     ]
    }
   ],
   "source": [
    "#Membership Operator(in,not in)\n",
    "x = [\"apple\", \"banana\"]\n",
    "\n",
    "print(\"banana\" in x)\n",
    "print(\"banana\" not in x)"
   ]
  },
  {
   "cell_type": "code",
   "execution_count": 67,
   "metadata": {},
   "outputs": [
    {
     "data": {
      "text/plain": [
       "'8421\\n1- 0001\\n2- 0010\\n3- 0011\\n4- 0100\\n5- 0101\\n6- 0110\\n7- 0111\\n8- 1000\\n9- 1001\\n10-1010\\nAND\\n&-if two elements are 1 then put 1 \\n6 = 0000000000000110\\n3 = 0000000000000011\\n--------------------\\n2 = 0000000000000010\\n\\nOR\\n| - if any one elemt is 1 then 1\\n6 = 0000000000000110\\n3 = 0000000000000011\\n--------------------\\n7 = 0000000000000111\\n\\n\\nXOR\\nThe ^ operator compares each bit and set it to 1 if only one is 1, otherwise (if both are 1 or both are 0) it is set to 0:\\n\\n6 = 0000000000000110\\n3 = 0000000000000011\\n--------------------\\n5 = 0000000000000101\\n\\nNOT\\nThe ~ operator inverts each bit (0 becomes 1 and 1 becomes 0).\\n\\nInverted 3 becomes -4:\\n 3 = 0000000000000011\\n-4 = 1111111111111100\\n\\n\\n'"
      ]
     },
     "execution_count": 67,
     "metadata": {},
     "output_type": "execute_result"
    }
   ],
   "source": [
    "#Bitwise Operator \n",
    "'''8421\n",
    "1- 0001\n",
    "2- 0010\n",
    "3- 0011\n",
    "4- 0100\n",
    "5- 0101\n",
    "6- 0110\n",
    "7- 0111\n",
    "8- 1000\n",
    "9- 1001\n",
    "10-1010\n",
    "AND\n",
    "&-if two elements are 1 then put 1 \n",
    "6 = 0000000000000110\n",
    "3 = 0000000000000011\n",
    "--------------------\n",
    "2 = 0000000000000010\n",
    "\n",
    "OR\n",
    "| - if any one elemt is 1 then 1\n",
    "6 = 0000000000000110\n",
    "3 = 0000000000000011\n",
    "--------------------\n",
    "7 = 0000000000000111\n",
    "\n",
    "\n",
    "XOR\n",
    "The ^ operator compares each bit and set it to 1 if only one is 1, otherwise (if both are 1 or both are 0) it is set to 0:\n",
    "\n",
    "6 = 0000000000000110\n",
    "3 = 0000000000000011\n",
    "--------------------\n",
    "5 = 0000000000000101\n",
    "\n",
    "NOT\n",
    "The ~ operator inverts each bit (0 becomes 1 and 1 becomes 0).\n",
    "\n",
    "Inverted 3 becomes -4:\n",
    " 3 = 0000000000000011\n",
    "-4 = 1111111111111100\n",
    "\n",
    "\n",
    "'''\n",
    "'''\n",
    "\n",
    "\n",
    "\n",
    "The << operator inserts the specified number of 0's (in this case 2) from the right and let the same amount of leftmost bits fall off:\n",
    "\n",
    "If you push 00 in from the left:\n",
    " 3 = 0000000000000011\n",
    "becomes\n",
    "12 = 0000000000001100\n",
    "\n",
    "\n",
    "print(8 >> 2)\n",
    "\n",
    "\n",
    "\n",
    "\n",
    "The >> operator moves each bit the specified number of times to the right. Empty holes at the left are filled with 0's.\n",
    "\n",
    "If you move each bit 2 times to the right, 8 becomes 2:\n",
    " 8 = 0000000000001000\n",
    "becomes\n",
    " 2 = 0000000000000010\n",
    "'''\n",
    "\n",
    "\n"
   ]
  },
  {
   "cell_type": "code",
   "execution_count": 70,
   "metadata": {},
   "outputs": [
    {
     "name": "stdout",
     "output_type": "stream",
     "text": [
      "2\n",
      "3\n",
      "-4\n",
      "12\n",
      "3\n"
     ]
    }
   ],
   "source": [
    "print(3 & 2)\n",
    "print(3 | 2)\n",
    "print(~3)\n",
    "print(3 << 2)\n",
    "print(12 >> 2)"
   ]
  },
  {
   "cell_type": "code",
   "execution_count": 105,
   "metadata": {},
   "outputs": [
    {
     "name": "stdout",
     "output_type": "stream",
     "text": [
      "ntr the total no of people in the company2\n",
      "enter the namea\n",
      "enter the nameb\n",
      "['a', 'b']\n",
      "name: a\n",
      "name: b\n"
     ]
    }
   ],
   "source": [
    "#listexercise\n",
    "emp_list=[]\n",
    "\n",
    "n=int(input('ntr the total no of people in the company'))\n",
    "for i in range(0,n):\n",
    "      emp_list.append(str(input('enter the name')))\n",
    "print(emp_list)   \n",
    "for i in emp_list:\n",
    "    print('name:',i)\n",
    "\n",
    "\n",
    "\n"
   ]
  },
  {
   "cell_type": "code",
   "execution_count": 89,
   "metadata": {},
   "outputs": [
    {
     "name": "stdout",
     "output_type": "stream",
     "text": [
      "itemorange\n",
      "orange\n"
     ]
    }
   ],
   "source": [
    "n=str(input('item'))\n",
    "print(n)"
   ]
  },
  {
   "cell_type": "code",
   "execution_count": 140,
   "metadata": {},
   "outputs": [
    {
     "name": "stdout",
     "output_type": "stream",
     "text": [
      "100\n",
      "entr the radius2\n",
      "12.56\n"
     ]
    }
   ],
   "source": [
    "#Functions\n",
    "def square(num):\n",
    "    return num*num\n",
    "print(square(10))\n",
    "\n",
    "\n",
    "def area_of_circle(radius):\n",
    "    return 3.14*radius*radius\n",
    "radius=int(input('entr the radius'))\n",
    "print(area_of_circle(radius))\n",
    "\n",
    "\n",
    "        \n"
   ]
  },
  {
   "cell_type": "code",
   "execution_count": 149,
   "metadata": {},
   "outputs": [
    {
     "name": "stdout",
     "output_type": "stream",
     "text": [
      "(1, 2, 3)\n",
      "[1, 4, 9]\n"
     ]
    }
   ],
   "source": [
    "#arbitrary argument do not know how many arguments are passing use*args\n",
    "def sq_lis(*list1):\n",
    "    res=[]\n",
    "    print(list1)\n",
    "    for i in list1:\n",
    "        res.append(i**2)\n",
    "    return res\n",
    "\n",
    "print(sq_lis(1,2,3))\n"
   ]
  },
  {
   "cell_type": "code",
   "execution_count": 146,
   "metadata": {},
   "outputs": [
    {
     "name": "stdout",
     "output_type": "stream",
     "text": [
      "Squares of the list are:  [289, 2704, 64]\n"
     ]
    }
   ],
   "source": [
    "def square( item_list ):    \n",
    "    '''''''This function will find the square of items in the list'''    \n",
    "    squares = [ ]    \n",
    "    for l in item_list:    \n",
    "        squares.append( l**2 )    \n",
    "    return squares    \n",
    "    \n",
    "# calling the defined function    \n",
    "my_list = [17, 52, 8];    \n",
    "my_result = square( my_list )    \n",
    "print( \"Squares of the list are: \", my_result )   "
   ]
  },
  {
   "cell_type": "code",
   "execution_count": 152,
   "metadata": {},
   "outputs": [
    {
     "name": "stdout",
     "output_type": "stream",
     "text": [
      "enter the num10\n",
      "The factorial  is 3628800\n"
     ]
    }
   ],
   "source": [
    "#recursion\n",
    "def factorial(x):\n",
    "   \n",
    "    if x == 1:\n",
    "        return 1\n",
    "    else:\n",
    "        return (x * factorial(x-1))\n",
    "\n",
    "\n",
    "\n",
    "print(\"The factorial  is\", factorial(int(input('enter the num'))))"
   ]
  },
  {
   "cell_type": "code",
   "execution_count": null,
   "metadata": {},
   "outputs": [],
   "source": []
  },
  {
   "cell_type": "code",
   "execution_count": null,
   "metadata": {},
   "outputs": [],
   "source": []
  }
 ],
 "metadata": {
  "kernelspec": {
   "display_name": "Python 3",
   "language": "python",
   "name": "python3"
  },
  "language_info": {
   "codemirror_mode": {
    "name": "ipython",
    "version": 3
   },
   "file_extension": ".py",
   "mimetype": "text/x-python",
   "name": "python",
   "nbconvert_exporter": "python",
   "pygments_lexer": "ipython3",
   "version": "3.8.5"
  }
 },
 "nbformat": 4,
 "nbformat_minor": 4
}
